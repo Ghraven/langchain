{
 "cells": [
  {
   "cell_type": "markdown",
   "metadata": {},
   "source": [
    "# **Google Community LangChain**\n",
    "\n",
    "> **What is `Google Community LangChain`?**\n",
    "\n",
    "- Google Community LangChain is a set of powerful integrations and tools that enable seamless interaction with Google Cloud services such as BigQuery, Vertex AI, Gmail, Document AI, and more.\n",
    "- It helps you build intelligent applications leveraging Google's cloud capabilities, making it easier to integrate AI models, APIs, and cloud services.\n",
    "\n",
    "> Get started with Google Community LangChain by visiting [LangChain documentation](https://langchain.com).\n",
    "\n",
    "## Key Components\n",
    "\n",
    "### **BigQuery**\n",
    "- **BigQueryLoader**: Load data from Google Cloud BigQuery.\n",
    "- **BigQueryVectorStore**: A vector store implementation that utilizes BigQuery and BigQuery Vector Search.\n",
    "- **VertexFSVectorStore**: A vector store implementation that utilizes BigQuery Storage and Vertex AI Feature Store.\n",
    "\n",
    "### **DocAI**\n",
    "- **DocAIParser**: Google Cloud Document AI parser.\n",
    "- **DocumentAIWarehouseRetriever**: A retriever based on Document AI Warehouse.\n",
    "\n",
    "### **Gmail**\n",
    "- **GmailBaseTool**: Base class for Gmail tools.\n",
    "- **GmailCreateDraft**: Tool that creates a draft email for Gmail.\n",
    "- **GmailGetMessage**: Tool that gets a message by ID from Gmail.\n",
    "- **GmailSearch**: Tool that searches for messages or threads in Gmail.\n",
    "\n",
    "### **Google Cloud Speech to Text**\n",
    "- **SpeechToTextLoader**: Loader for Google Cloud Speech-to-Text audio transcripts.\n",
    "\n",
    "### **Google Places API**\n",
    "- **GooglePlacesAPIWrapper**: Wrapper around Google Places API.\n",
    "- **GooglePlacesTool**: Tool that queries the Google Places API.\n",
    "\n",
    "### **Google Cloud Text-to-Speech**\n",
    "- **TextToSpeechTool**: Tool that queries the Google Cloud Text to Speech API.\n",
    "\n",
    "### **Google Translate**\n",
    "- **GoogleTranslateTransformer**: Translate text documents using Google Cloud Translation.\n",
    "\n",
    "### **Vertex AI Search**\n",
    "- **VertexAISearchRetriever**: Google Vertex AI Search retriever.\n",
    "- **VertexAIMultiTurnSearchRetriever**: Google Vertex AI Search retriever for multi-turn conversations.\n",
    "\n",
    "### **Vertex AI Ranker**\n",
    "- **VertexAIRank**: Initializes the Vertex AI Ranker with configurable parameters.\n",
    "\n",
    "> Visit the [LangChain Google Community Documentation](https://python.langchain.com/docs/integrations/providers/google/) to explore more features and integrate Google services."
   ]
  }
 ],
 "metadata": {
  "language_info": {
   "name": "python"
  }
 },
 "nbformat": 4,
 "nbformat_minor": 2
}
