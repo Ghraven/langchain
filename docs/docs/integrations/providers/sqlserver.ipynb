{
 "cells": [
  {
   "cell_type": "markdown",
   "metadata": {},
   "source": [
    "# Microsoft SQL Server\n",
    "\n",
    "> **What is Microsoft SQL Server?**\n",
    "\n",
    "Microsoft SQL Server (Structured Query Language) is a proprietary relational database management system developed by Microsoft. As a database server, it is a software product with the primary function of storing and retrieving data as requested by other software applications—which may run either on the same computer or on another computer across a network (including the Internet).\n",
    "\n",
    "Microsoft markets at least a dozen different editions of Microsoft SQL Server, aimed at different audiences and for workloads ranging from small single-machine applications to large Internet-facing applications with many concurrent users.\n",
    "\n",
    "For more information, check out [GitHub Issue #9804](https://github.com/langchain-ai/langchain/issues/9804)."
   ]
  }
 ],
 "metadata": {
  "language_info": {
   "name": "python"
  }
 },
 "nbformat": 4,
 "nbformat_minor": 2
}
