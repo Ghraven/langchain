{
 "cells": [
  {
   "cell_type": "markdown",
   "metadata": {},
   "source": [
    "# Prompty\n",
    "\n",
    ">What is `Prompty`?\n",
    "\n",
    ">- Prompty is a new asset class and format for LLM prompts that aims to provide observability, understandability, and portability for developers.\n",
    "\n",
    ">Get started with Prompty by visiting [their website](https://prompty.ai/)."
   ]
  }
 ],
 "metadata": {
  "language_info": {
   "name": "python"
  }
 },
 "nbformat": 4,
 "nbformat_minor": 2
}
