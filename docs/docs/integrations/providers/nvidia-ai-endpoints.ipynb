{
 "cells": [
  {
   "cell_type": "markdown",
   "metadata": {},
   "source": [
    "# **NVIDIA AI Foundation Endpoints**\n",
    "\n",
    "> **What is `NVIDIA AI Foundation Endpoints`?**\n",
    "\n",
    "- NVIDIA AI Foundation Endpoints provide users with easy access to hosted API endpoints for powerful NVIDIA AI Foundation models such as Mixtral 8x7B, Llama 2, Stable Diffusion, and more.\n",
    "- These models, optimized, tested, and hosted on the NVIDIA AI platform, enable fast evaluation, customization, and seamless performance on any accelerated stack.\n",
    "\n",
    "> Get started with NVIDIA AI Foundation Endpoints by visiting [LangChain Documentation](https://python.langchain.com/v0.1/docs/integrations/chat/nvidia_ai_endpoints/).\n",
    "\n",
    "## Key Features\n",
    "\n",
    "- **Fully Accelerated Stack**: Running on NVIDIA DGX Cloud, providing users with quick and reliable results.\n",
    "- **Customizable Models**: Models can be further customized to meet your needs and seamlessly deployed across various environments.\n",
    "- **Enterprise-Grade Security and Stability**: Deploy models with confidence using NVIDIA AI Enterprise, ensuring support and reliability.\n",
    "- **Wide Range of Models**: Access and work with advanced AI models, including Mixtral 8x7B, Llama 2, and Stable Diffusion.\n",
    "\n",
    "> Visit [NVIDIA AI Foundation Endpoints](https://python.langchain.com/v0.1/docs/integrations/chat/nvidia_ai_endpoints/) for more information and to get started."
   ]
  }
 ],
 "metadata": {
  "language_info": {
   "name": "python"
  }
 },
 "nbformat": 4,
 "nbformat_minor": 2
}
