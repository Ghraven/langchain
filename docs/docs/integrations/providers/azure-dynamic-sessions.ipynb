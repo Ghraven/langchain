{
 "cells": [
  {
   "cell_type": "markdown",
   "metadata": {},
   "source": [
    "# **Azure Container Apps Dynamic Sessions**\n",
    "\n",
    "> **What is `Azure Container Apps Dynamic Sessions`?**\n",
    "\n",
    "- Azure Container Apps Dynamic Sessions allow for running Python code in secure Hyper-V isolated sandboxes. This enables running potentially untrusted code in a safe environment with popular Python packages like NumPy, pandas, and scikit-learn pre-installed.\n",
    "- The sessions are fully integrated with Azure for scalable and secure execution.\n",
    "\n",
    "> Get started with Azure Container Apps Dynamic Sessions by visiting [LangChain Documentation](https://python.langchain.com/docs/integrations/tools/azure-container-apps-dynamic-sessions/)."
   ]
  }
 ],
 "metadata": {
  "language_info": {
   "name": "python"
  }
 },
 "nbformat": 4,
 "nbformat_minor": 2
}
