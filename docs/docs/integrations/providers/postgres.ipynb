{
 "cells": [
  {
   "cell_type": "markdown",
   "metadata": {},
   "source": [
    "# **Postgres**\n",
    "\n",
    "> **What is `Postgres`?**\n",
    "\n",
    "- PostgreSQL, or Postgres, is a free and open-source relational database management system (RDBMS) known for its extensibility \n",
    "and SQL compliance.\n",
    "\n",
    "> Get started with using Postgres [LangChain Documentation](https://python.langchain.com/docs/integrations/memory/postgres_chat_message_history/)."
   ]
  }
 ],
 "metadata": {
  "language_info": {
   "name": "python"
  }
 },
 "nbformat": 4,
 "nbformat_minor": 2
}
