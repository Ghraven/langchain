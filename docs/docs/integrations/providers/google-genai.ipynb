{
 "cells": [
  {
   "cell_type": "markdown",
   "metadata": {},
   "source": [
    "# Google GenAI\n",
    "\n",
    "> **What is `Google GenAI`?**\n",
    "\n",
    "> - Google GenAI brings generative AI to real-world experiences quickly, efficiently, and responsibly, powered by Google’s advanced models, including Gemini.  \n",
    "> - Developers can leverage tools like Vertex AI to build AI-powered solutions across Google Cloud’s ecosystem.  \n",
    "> - New customers can begin their AI journey with $300 in free credits.\n",
    "\n",
    "> Explore more about Google GenAI by visiting [their website](https://cloud.google.com/ai/generative-ai)."
   ]
  }
 ],
 "metadata": {
  "language_info": {
   "name": "python"
  }
 },
 "nbformat": 4,
 "nbformat_minor": 2
}
