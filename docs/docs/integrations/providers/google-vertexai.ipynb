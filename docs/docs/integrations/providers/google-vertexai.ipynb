{
 "cells": [
  {
   "cell_type": "markdown",
   "metadata": {},
   "source": [
    "# **Google Vertex AI**\n",
    "\n",
    "> **What is `Google Vertex AI`?**\n",
    "\n",
    "- Google Vertex AI is a **fully-managed AI platform** that enables developers to build, test, and deploy generative AI models quickly and efficiently.\n",
    "- It provides access to advanced models like Gemini and tools to integrate AI seamlessly into enterprise applications.\n",
    "\n",
    "> Get started with Google Vertex AI by visiting [their website](https://cloud.google.com/vertex-ai)."
   ]
  }
 ],
 "metadata": {
  "language_info": {
   "name": "python"
  }
 },
 "nbformat": 4,
 "nbformat_minor": 2
}
